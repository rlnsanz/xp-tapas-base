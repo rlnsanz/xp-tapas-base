{
 "cells": [
  {
   "cell_type": "code",
   "execution_count": null,
   "metadata": {},
   "outputs": [],
   "source": [
    "import os\n",
    "import shutil\n",
    "from pathlib import Path\n",
    "import pandas as pd"
   ]
  },
  {
   "cell_type": "code",
   "execution_count": null,
   "metadata": {},
   "outputs": [],
   "source": [
    "df  = pd.read_csv('data/training.tsv', sep='\\t', index_col=0)\n",
    "df"
   ]
  },
  {
   "cell_type": "code",
   "execution_count": null,
   "metadata": {},
   "outputs": [],
   "source": [
    "from utils import parse_question"
   ]
  },
  {
   "cell_type": "code",
   "execution_count": null,
   "metadata": {},
   "outputs": [],
   "source": [
    "data = {}\n",
    "queries = {}\n",
    "answer_coordinates = {}\n",
    "answer_text = {}\n",
    "\n",
    "float_values = {}\n",
    "aggregation_functions = {}\n",
    "\n",
    "for (_, ut,ct,tv) in df.itertuples():\n",
    "    try:\n",
    "        parsed = parse_question(table=pd.read_csv(ct).astype(str), question=ut, answer_texts=tv.split('|'))\n",
    "        print(ut, ct, tv)\n",
    "    except Exception as e:\n",
    "        print(e, '::', ut, ct, tv)\n",
    "        continue\n",
    "\n",
    "    q, ans_txt, ans_coord, float_value, aggregation_function = parsed # type: ignore\n",
    "    \n",
    "    if ct not in data:\n",
    "        data[ct] = pd.read_csv(ct).astype(str)\n",
    "        queries[ct] = []\n",
    "        answer_coordinates[ct] = []\n",
    "        answer_text[ct] = []\n",
    "        float_values[ct] = []\n",
    "        aggregation_functions[ct] = []\n",
    "    else:\n",
    "        print(\"*************DETECTED A HIT****************************\")\n",
    "\n",
    "    queries[ct].append(q)\n",
    "    answer_coordinates[ct].append(ans_coord)\n",
    "    answer_text[ct].append(ans_txt)\n",
    "    float_values[ct].append(float_value)\n",
    "    aggregation_functions[ct].append(aggregation_function)\n",
    "\n"
   ]
  },
  {
   "cell_type": "code",
   "execution_count": null,
   "metadata": {},
   "outputs": [],
   "source": [
    "# Per table tokenization\n",
    "table = []\n",
    "for ct in data:\n",
    "    d = {\n",
    "        'ref': ct,\n",
    "        'queries': queries[ct],\n",
    "        'answer_coordinates': answer_coordinates[ct],\n",
    "        'answer_text': answer_text[ct],\n",
    "        'float_values': float_values[ct],\n",
    "        'aggregation_functions': aggregation_functions[ct]\n",
    "        }\n",
    "    \n",
    "    table.append(d)\n",
    "print('done')"
   ]
  },
  {
   "cell_type": "code",
   "execution_count": null,
   "metadata": {},
   "outputs": [],
   "source": [
    "df = pd.DataFrame(table)"
   ]
  },
  {
   "cell_type": "code",
   "execution_count": null,
   "metadata": {},
   "outputs": [],
   "source": [
    "item = df.iloc[0]"
   ]
  },
  {
   "cell_type": "code",
   "execution_count": null,
   "metadata": {},
   "outputs": [],
   "source": [
    "item"
   ]
  },
  {
   "cell_type": "code",
   "execution_count": null,
   "metadata": {},
   "outputs": [],
   "source": [
    "item.ref"
   ]
  },
  {
   "cell_type": "code",
   "execution_count": null,
   "metadata": {},
   "outputs": [],
   "source": []
  }
 ],
 "metadata": {
  "kernelspec": {
   "display_name": "florenv",
   "language": "python",
   "name": "python3"
  },
  "language_info": {
   "codemirror_mode": {
    "name": "ipython",
    "version": 3
   },
   "file_extension": ".py",
   "mimetype": "text/x-python",
   "name": "python",
   "nbconvert_exporter": "python",
   "pygments_lexer": "ipython3",
   "version": "3.10.10"
  },
  "orig_nbformat": 4
 },
 "nbformat": 4,
 "nbformat_minor": 2
}
