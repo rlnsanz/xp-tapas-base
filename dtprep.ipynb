{
 "cells": [
  {
   "cell_type": "code",
   "execution_count": 11,
   "metadata": {},
   "outputs": [],
   "source": [
    "import os\n",
    "import shutil\n",
    "from pathlib import Path"
   ]
  },
  {
   "cell_type": "code",
   "execution_count": 8,
   "metadata": {},
   "outputs": [],
   "source": [
    "path = Path('WikiTableQuestions-master')"
   ]
  },
  {
   "cell_type": "code",
   "execution_count": 9,
   "metadata": {},
   "outputs": [
    {
     "name": "stdout",
     "output_type": "stream",
     "text": [
      "tagged\n",
      "page\n",
      "docs\n",
      "weblib\n",
      "data\n",
      "csv\n",
      "misc\n"
     ]
    }
   ],
   "source": [
    "for each in os.listdir(path):\n",
    "    if os.path.isdir(path / each):\n",
    "        print(each)"
   ]
  },
  {
   "cell_type": "code",
   "execution_count": 13,
   "metadata": {},
   "outputs": [
    {
     "name": "stdout",
     "output_type": "stream",
     "text": [
      "tagged\n",
      "page\n",
      "docs\n",
      "weblib\n",
      "data\n",
      "csv\n",
      "misc\n"
     ]
    }
   ],
   "source": [
    "for each in os.listdir(path):\n",
    "    if os.path.isdir(path / each):\n",
    "        shutil.move(path / each, each)\n",
    "        print(each)"
   ]
  }
 ],
 "metadata": {
  "kernelspec": {
   "display_name": "florenv",
   "language": "python",
   "name": "python3"
  },
  "language_info": {
   "codemirror_mode": {
    "name": "ipython",
    "version": 3
   },
   "file_extension": ".py",
   "mimetype": "text/x-python",
   "name": "python",
   "nbconvert_exporter": "python",
   "pygments_lexer": "ipython3",
   "version": "3.10.10"
  },
  "orig_nbformat": 4
 },
 "nbformat": 4,
 "nbformat_minor": 2
}
